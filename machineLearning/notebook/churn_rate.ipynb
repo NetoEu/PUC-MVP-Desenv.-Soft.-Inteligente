{
 "cells": [
  {
   "cell_type": "markdown",
   "metadata": {},
   "source": [
    "### Importa todas as libs necessárias para criar o modelo"
   ]
  },
  {
   "cell_type": "code",
   "execution_count": 1,
   "metadata": {},
   "outputs": [],
   "source": [
    "import pandas as pd\n",
    "import numpy as np\n",
    "import matplotlib.pyplot as plt\n",
    "import seaborn as sns\n",
    "\n",
    "import warnings\n",
    "from sklearn.model_selection import train_test_split\n",
    "from sklearn.model_selection import KFold\n",
    "from sklearn.model_selection import StratifiedKFold\n",
    "from sklearn.model_selection import cross_val_score\n",
    "from sklearn.model_selection import GridSearchCV\n",
    "\n",
    "from sklearn.preprocessing import StandardScaler\n",
    "from sklearn.preprocessing import MinMaxScaler\n",
    "\n",
    "from sklearn.metrics import accuracy_score\n",
    "\n",
    "from sklearn.pipeline import Pipeline\n",
    "\n",
    "from xgboost import XGBClassifier\n",
    "from sklearn.linear_model import LogisticRegression\n",
    "from sklearn.tree import DecisionTreeClassifier\n",
    "from sklearn.neighbors import KNeighborsClassifier\n",
    "from sklearn.naive_bayes import GaussianNB\n",
    "from sklearn.svm import SVC\n",
    "\n",
    "from sklearn.ensemble import RandomForestClassifier\n",
    "from sklearn.ensemble import BaggingClassifier\n",
    "from sklearn.ensemble import RandomForestClassifier\n",
    "from sklearn.ensemble import ExtraTreesClassifier\n",
    "from sklearn.ensemble import VotingClassifier\n",
    "from sklearn.ensemble import AdaBoostClassifier\n",
    "from sklearn.ensemble import GradientBoostingClassifier\n",
    "\n",
    "%matplotlib inline\n",
    "\n",
    "warnings.filterwarnings('ignore')"
   ]
  },
  {
   "cell_type": "markdown",
   "metadata": {},
   "source": [
    "#### O dataset contém informações sobre clientes de um banco. A variável alvo é o Churn (se o cliente saiu do banco ou não).\n",
    "\n",
    "Descrição de cada coluna:\n",
    "\n",
    "1. customer_id, variável não utilizada.\n",
    "2. credit_score, usado como entrada.\n",
    "3. país, usado como entrada.\n",
    "4. gênero, usado como entrada.\n",
    "5. idade, usada como entrada.\n",
    "6. posse, usada como entrada.\n",
    "7. saldo, usado como entrada.\n",
    "8. número_produtos, usado como entrada.\n",
    "9. credit_card, usado como entrada.\n",
    "10. active_member, usado como entrada.\n",
    "11. salário_estimado, usado como entrada.\n",
    "12. churn, usado como alvo. 1 se o cliente tiver saído do banco durante algum período ou 0 se não."
   ]
  },
  {
   "cell_type": "code",
   "execution_count": 2,
   "metadata": {},
   "outputs": [
    {
     "name": "stdout",
     "output_type": "stream",
     "text": [
      "(10000, 12)\n"
     ]
    },
    {
     "data": {
      "text/html": [
       "<div>\n",
       "<style scoped>\n",
       "    .dataframe tbody tr th:only-of-type {\n",
       "        vertical-align: middle;\n",
       "    }\n",
       "\n",
       "    .dataframe tbody tr th {\n",
       "        vertical-align: top;\n",
       "    }\n",
       "\n",
       "    .dataframe thead th {\n",
       "        text-align: right;\n",
       "    }\n",
       "</style>\n",
       "<table border=\"1\" class=\"dataframe\">\n",
       "  <thead>\n",
       "    <tr style=\"text-align: right;\">\n",
       "      <th></th>\n",
       "      <th>customer_id</th>\n",
       "      <th>credit_score</th>\n",
       "      <th>country</th>\n",
       "      <th>gender</th>\n",
       "      <th>age</th>\n",
       "      <th>tenure</th>\n",
       "      <th>balance</th>\n",
       "      <th>products_number</th>\n",
       "      <th>credit_card</th>\n",
       "      <th>active_member</th>\n",
       "      <th>estimated_salary</th>\n",
       "      <th>churn</th>\n",
       "    </tr>\n",
       "  </thead>\n",
       "  <tbody>\n",
       "    <tr>\n",
       "      <th>0</th>\n",
       "      <td>15634602</td>\n",
       "      <td>619</td>\n",
       "      <td>France</td>\n",
       "      <td>Female</td>\n",
       "      <td>42</td>\n",
       "      <td>2</td>\n",
       "      <td>0.00</td>\n",
       "      <td>1</td>\n",
       "      <td>1</td>\n",
       "      <td>1</td>\n",
       "      <td>101348.88</td>\n",
       "      <td>1</td>\n",
       "    </tr>\n",
       "    <tr>\n",
       "      <th>1</th>\n",
       "      <td>15647311</td>\n",
       "      <td>608</td>\n",
       "      <td>Spain</td>\n",
       "      <td>Female</td>\n",
       "      <td>41</td>\n",
       "      <td>1</td>\n",
       "      <td>83807.86</td>\n",
       "      <td>1</td>\n",
       "      <td>0</td>\n",
       "      <td>1</td>\n",
       "      <td>112542.58</td>\n",
       "      <td>0</td>\n",
       "    </tr>\n",
       "    <tr>\n",
       "      <th>2</th>\n",
       "      <td>15619304</td>\n",
       "      <td>502</td>\n",
       "      <td>France</td>\n",
       "      <td>Female</td>\n",
       "      <td>42</td>\n",
       "      <td>8</td>\n",
       "      <td>159660.80</td>\n",
       "      <td>3</td>\n",
       "      <td>1</td>\n",
       "      <td>0</td>\n",
       "      <td>113931.57</td>\n",
       "      <td>1</td>\n",
       "    </tr>\n",
       "    <tr>\n",
       "      <th>3</th>\n",
       "      <td>15701354</td>\n",
       "      <td>699</td>\n",
       "      <td>France</td>\n",
       "      <td>Female</td>\n",
       "      <td>39</td>\n",
       "      <td>1</td>\n",
       "      <td>0.00</td>\n",
       "      <td>2</td>\n",
       "      <td>0</td>\n",
       "      <td>0</td>\n",
       "      <td>93826.63</td>\n",
       "      <td>0</td>\n",
       "    </tr>\n",
       "    <tr>\n",
       "      <th>4</th>\n",
       "      <td>15737888</td>\n",
       "      <td>850</td>\n",
       "      <td>Spain</td>\n",
       "      <td>Female</td>\n",
       "      <td>43</td>\n",
       "      <td>2</td>\n",
       "      <td>125510.82</td>\n",
       "      <td>1</td>\n",
       "      <td>1</td>\n",
       "      <td>1</td>\n",
       "      <td>79084.10</td>\n",
       "      <td>0</td>\n",
       "    </tr>\n",
       "  </tbody>\n",
       "</table>\n",
       "</div>"
      ],
      "text/plain": [
       "   customer_id  credit_score country  gender  age  tenure    balance  \\\n",
       "0     15634602           619  France  Female   42       2       0.00   \n",
       "1     15647311           608   Spain  Female   41       1   83807.86   \n",
       "2     15619304           502  France  Female   42       8  159660.80   \n",
       "3     15701354           699  France  Female   39       1       0.00   \n",
       "4     15737888           850   Spain  Female   43       2  125510.82   \n",
       "\n",
       "   products_number  credit_card  active_member  estimated_salary  churn  \n",
       "0                1            1              1         101348.88      1  \n",
       "1                1            0              1         112542.58      0  \n",
       "2                3            1              0         113931.57      1  \n",
       "3                2            0              0          93826.63      0  \n",
       "4                1            1              1          79084.10      0  "
      ]
     },
     "execution_count": 2,
     "metadata": {},
     "output_type": "execute_result"
    }
   ],
   "source": [
    "# Caminho para o excel onde estão os dados brutos\n",
    "url = r\"C:\\Users\\Notbook\\Desktop\\PUC\\Eng. Software\\MVP\\MVP - Qualidade de Software e Sistemas Inteligentes\\machineLearning\\data\\Bank Customer Churn Prediction.csv\"\n",
    "\n",
    "# Lê o arquivo com os dados\n",
    "df = pd.read_csv(url)\n",
    "\n",
    "# Vê quantas linhas e colunas existem no DataFrame\n",
    "print(df.shape)\n",
    "\n",
    "# Mostra as primeiros 5 linhas do df\n",
    "df.head()"
   ]
  },
  {
   "cell_type": "code",
   "execution_count": 3,
   "metadata": {},
   "outputs": [
    {
     "name": "stdout",
     "output_type": "stream",
     "text": [
      "<class 'pandas.core.frame.DataFrame'>\n",
      "RangeIndex: 10000 entries, 0 to 9999\n",
      "Data columns (total 12 columns):\n",
      " #   Column            Non-Null Count  Dtype  \n",
      "---  ------            --------------  -----  \n",
      " 0   customer_id       10000 non-null  int64  \n",
      " 1   credit_score      10000 non-null  int64  \n",
      " 2   country           10000 non-null  object \n",
      " 3   gender            10000 non-null  object \n",
      " 4   age               10000 non-null  int64  \n",
      " 5   tenure            10000 non-null  int64  \n",
      " 6   balance           10000 non-null  float64\n",
      " 7   products_number   10000 non-null  int64  \n",
      " 8   credit_card       10000 non-null  int64  \n",
      " 9   active_member     10000 non-null  int64  \n",
      " 10  estimated_salary  10000 non-null  float64\n",
      " 11  churn             10000 non-null  int64  \n",
      "dtypes: float64(2), int64(8), object(2)\n",
      "memory usage: 937.6+ KB\n"
     ]
    }
   ],
   "source": [
    "df.info()"
   ]
  },
  {
   "cell_type": "code",
   "execution_count": 4,
   "metadata": {},
   "outputs": [
    {
     "data": {
      "text/html": [
       "<div>\n",
       "<style scoped>\n",
       "    .dataframe tbody tr th:only-of-type {\n",
       "        vertical-align: middle;\n",
       "    }\n",
       "\n",
       "    .dataframe tbody tr th {\n",
       "        vertical-align: top;\n",
       "    }\n",
       "\n",
       "    .dataframe thead th {\n",
       "        text-align: right;\n",
       "    }\n",
       "</style>\n",
       "<table border=\"1\" class=\"dataframe\">\n",
       "  <thead>\n",
       "    <tr style=\"text-align: right;\">\n",
       "      <th></th>\n",
       "      <th>customer_id</th>\n",
       "      <th>credit_score</th>\n",
       "      <th>age</th>\n",
       "      <th>tenure</th>\n",
       "      <th>balance</th>\n",
       "      <th>products_number</th>\n",
       "      <th>credit_card</th>\n",
       "      <th>active_member</th>\n",
       "      <th>estimated_salary</th>\n",
       "      <th>churn</th>\n",
       "    </tr>\n",
       "  </thead>\n",
       "  <tbody>\n",
       "    <tr>\n",
       "      <th>count</th>\n",
       "      <td>10000.00</td>\n",
       "      <td>10000.00</td>\n",
       "      <td>10000.00</td>\n",
       "      <td>10000.00</td>\n",
       "      <td>10000.00</td>\n",
       "      <td>10000.00</td>\n",
       "      <td>10000.00</td>\n",
       "      <td>10000.00</td>\n",
       "      <td>10000.00</td>\n",
       "      <td>10000.0</td>\n",
       "    </tr>\n",
       "    <tr>\n",
       "      <th>mean</th>\n",
       "      <td>15690940.57</td>\n",
       "      <td>650.53</td>\n",
       "      <td>38.92</td>\n",
       "      <td>5.01</td>\n",
       "      <td>76485.89</td>\n",
       "      <td>1.53</td>\n",
       "      <td>0.71</td>\n",
       "      <td>0.52</td>\n",
       "      <td>100090.24</td>\n",
       "      <td>0.2</td>\n",
       "    </tr>\n",
       "    <tr>\n",
       "      <th>std</th>\n",
       "      <td>71936.19</td>\n",
       "      <td>96.65</td>\n",
       "      <td>10.49</td>\n",
       "      <td>2.89</td>\n",
       "      <td>62397.41</td>\n",
       "      <td>0.58</td>\n",
       "      <td>0.46</td>\n",
       "      <td>0.50</td>\n",
       "      <td>57510.49</td>\n",
       "      <td>0.4</td>\n",
       "    </tr>\n",
       "    <tr>\n",
       "      <th>min</th>\n",
       "      <td>15565701.00</td>\n",
       "      <td>350.00</td>\n",
       "      <td>18.00</td>\n",
       "      <td>0.00</td>\n",
       "      <td>0.00</td>\n",
       "      <td>1.00</td>\n",
       "      <td>0.00</td>\n",
       "      <td>0.00</td>\n",
       "      <td>11.58</td>\n",
       "      <td>0.0</td>\n",
       "    </tr>\n",
       "    <tr>\n",
       "      <th>25%</th>\n",
       "      <td>15628528.25</td>\n",
       "      <td>584.00</td>\n",
       "      <td>32.00</td>\n",
       "      <td>3.00</td>\n",
       "      <td>0.00</td>\n",
       "      <td>1.00</td>\n",
       "      <td>0.00</td>\n",
       "      <td>0.00</td>\n",
       "      <td>51002.11</td>\n",
       "      <td>0.0</td>\n",
       "    </tr>\n",
       "    <tr>\n",
       "      <th>50%</th>\n",
       "      <td>15690738.00</td>\n",
       "      <td>652.00</td>\n",
       "      <td>37.00</td>\n",
       "      <td>5.00</td>\n",
       "      <td>97198.54</td>\n",
       "      <td>1.00</td>\n",
       "      <td>1.00</td>\n",
       "      <td>1.00</td>\n",
       "      <td>100193.92</td>\n",
       "      <td>0.0</td>\n",
       "    </tr>\n",
       "    <tr>\n",
       "      <th>75%</th>\n",
       "      <td>15753233.75</td>\n",
       "      <td>718.00</td>\n",
       "      <td>44.00</td>\n",
       "      <td>7.00</td>\n",
       "      <td>127644.24</td>\n",
       "      <td>2.00</td>\n",
       "      <td>1.00</td>\n",
       "      <td>1.00</td>\n",
       "      <td>149388.25</td>\n",
       "      <td>0.0</td>\n",
       "    </tr>\n",
       "    <tr>\n",
       "      <th>max</th>\n",
       "      <td>15815690.00</td>\n",
       "      <td>850.00</td>\n",
       "      <td>92.00</td>\n",
       "      <td>10.00</td>\n",
       "      <td>250898.09</td>\n",
       "      <td>4.00</td>\n",
       "      <td>1.00</td>\n",
       "      <td>1.00</td>\n",
       "      <td>199992.48</td>\n",
       "      <td>1.0</td>\n",
       "    </tr>\n",
       "  </tbody>\n",
       "</table>\n",
       "</div>"
      ],
      "text/plain": [
       "       customer_id  credit_score       age    tenure    balance  \\\n",
       "count     10000.00      10000.00  10000.00  10000.00   10000.00   \n",
       "mean   15690940.57        650.53     38.92      5.01   76485.89   \n",
       "std       71936.19         96.65     10.49      2.89   62397.41   \n",
       "min    15565701.00        350.00     18.00      0.00       0.00   \n",
       "25%    15628528.25        584.00     32.00      3.00       0.00   \n",
       "50%    15690738.00        652.00     37.00      5.00   97198.54   \n",
       "75%    15753233.75        718.00     44.00      7.00  127644.24   \n",
       "max    15815690.00        850.00     92.00     10.00  250898.09   \n",
       "\n",
       "       products_number  credit_card  active_member  estimated_salary    churn  \n",
       "count         10000.00     10000.00       10000.00          10000.00  10000.0  \n",
       "mean              1.53         0.71           0.52         100090.24      0.2  \n",
       "std               0.58         0.46           0.50          57510.49      0.4  \n",
       "min               1.00         0.00           0.00             11.58      0.0  \n",
       "25%               1.00         0.00           0.00          51002.11      0.0  \n",
       "50%               1.00         1.00           1.00         100193.92      0.0  \n",
       "75%               2.00         1.00           1.00         149388.25      0.0  \n",
       "max               4.00         1.00           1.00         199992.48      1.0  "
      ]
     },
     "execution_count": 4,
     "metadata": {},
     "output_type": "execute_result"
    }
   ],
   "source": [
    "df.describe().round(2)"
   ]
  },
  {
   "cell_type": "markdown",
   "metadata": {},
   "source": [
    "### Excluo a coluna que não vou precisar para o modelo"
   ]
  },
  {
   "cell_type": "code",
   "execution_count": 5,
   "metadata": {},
   "outputs": [],
   "source": [
    "df.drop(['customer_id'], axis = 1, inplace=True)"
   ]
  },
  {
   "cell_type": "markdown",
   "metadata": {},
   "source": [
    "### Verifico se a coluna foi excluida"
   ]
  },
  {
   "cell_type": "code",
   "execution_count": 6,
   "metadata": {},
   "outputs": [
    {
     "data": {
      "text/html": [
       "<div>\n",
       "<style scoped>\n",
       "    .dataframe tbody tr th:only-of-type {\n",
       "        vertical-align: middle;\n",
       "    }\n",
       "\n",
       "    .dataframe tbody tr th {\n",
       "        vertical-align: top;\n",
       "    }\n",
       "\n",
       "    .dataframe thead th {\n",
       "        text-align: right;\n",
       "    }\n",
       "</style>\n",
       "<table border=\"1\" class=\"dataframe\">\n",
       "  <thead>\n",
       "    <tr style=\"text-align: right;\">\n",
       "      <th></th>\n",
       "      <th>credit_score</th>\n",
       "      <th>country</th>\n",
       "      <th>gender</th>\n",
       "      <th>age</th>\n",
       "      <th>tenure</th>\n",
       "      <th>balance</th>\n",
       "      <th>products_number</th>\n",
       "      <th>credit_card</th>\n",
       "      <th>active_member</th>\n",
       "      <th>estimated_salary</th>\n",
       "      <th>churn</th>\n",
       "    </tr>\n",
       "  </thead>\n",
       "  <tbody>\n",
       "    <tr>\n",
       "      <th>0</th>\n",
       "      <td>619</td>\n",
       "      <td>France</td>\n",
       "      <td>Female</td>\n",
       "      <td>42</td>\n",
       "      <td>2</td>\n",
       "      <td>0.00</td>\n",
       "      <td>1</td>\n",
       "      <td>1</td>\n",
       "      <td>1</td>\n",
       "      <td>101348.88</td>\n",
       "      <td>1</td>\n",
       "    </tr>\n",
       "    <tr>\n",
       "      <th>1</th>\n",
       "      <td>608</td>\n",
       "      <td>Spain</td>\n",
       "      <td>Female</td>\n",
       "      <td>41</td>\n",
       "      <td>1</td>\n",
       "      <td>83807.86</td>\n",
       "      <td>1</td>\n",
       "      <td>0</td>\n",
       "      <td>1</td>\n",
       "      <td>112542.58</td>\n",
       "      <td>0</td>\n",
       "    </tr>\n",
       "    <tr>\n",
       "      <th>2</th>\n",
       "      <td>502</td>\n",
       "      <td>France</td>\n",
       "      <td>Female</td>\n",
       "      <td>42</td>\n",
       "      <td>8</td>\n",
       "      <td>159660.80</td>\n",
       "      <td>3</td>\n",
       "      <td>1</td>\n",
       "      <td>0</td>\n",
       "      <td>113931.57</td>\n",
       "      <td>1</td>\n",
       "    </tr>\n",
       "    <tr>\n",
       "      <th>3</th>\n",
       "      <td>699</td>\n",
       "      <td>France</td>\n",
       "      <td>Female</td>\n",
       "      <td>39</td>\n",
       "      <td>1</td>\n",
       "      <td>0.00</td>\n",
       "      <td>2</td>\n",
       "      <td>0</td>\n",
       "      <td>0</td>\n",
       "      <td>93826.63</td>\n",
       "      <td>0</td>\n",
       "    </tr>\n",
       "    <tr>\n",
       "      <th>4</th>\n",
       "      <td>850</td>\n",
       "      <td>Spain</td>\n",
       "      <td>Female</td>\n",
       "      <td>43</td>\n",
       "      <td>2</td>\n",
       "      <td>125510.82</td>\n",
       "      <td>1</td>\n",
       "      <td>1</td>\n",
       "      <td>1</td>\n",
       "      <td>79084.10</td>\n",
       "      <td>0</td>\n",
       "    </tr>\n",
       "  </tbody>\n",
       "</table>\n",
       "</div>"
      ],
      "text/plain": [
       "   credit_score country  gender  age  tenure    balance  products_number  \\\n",
       "0           619  France  Female   42       2       0.00                1   \n",
       "1           608   Spain  Female   41       1   83807.86                1   \n",
       "2           502  France  Female   42       8  159660.80                3   \n",
       "3           699  France  Female   39       1       0.00                2   \n",
       "4           850   Spain  Female   43       2  125510.82                1   \n",
       "\n",
       "   credit_card  active_member  estimated_salary  churn  \n",
       "0            1              1         101348.88      1  \n",
       "1            0              1         112542.58      0  \n",
       "2            1              0         113931.57      1  \n",
       "3            0              0          93826.63      0  \n",
       "4            1              1          79084.10      0  "
      ]
     },
     "execution_count": 6,
     "metadata": {},
     "output_type": "execute_result"
    }
   ],
   "source": [
    "df.head()"
   ]
  },
  {
   "cell_type": "markdown",
   "metadata": {},
   "source": [
    "### Vejo se tem algum valor nulo"
   ]
  },
  {
   "cell_type": "code",
   "execution_count": 7,
   "metadata": {},
   "outputs": [
    {
     "data": {
      "text/plain": [
       "credit_score        0\n",
       "country             0\n",
       "gender              0\n",
       "age                 0\n",
       "tenure              0\n",
       "balance             0\n",
       "products_number     0\n",
       "credit_card         0\n",
       "active_member       0\n",
       "estimated_salary    0\n",
       "churn               0\n",
       "dtype: int64"
      ]
     },
     "execution_count": 7,
     "metadata": {},
     "output_type": "execute_result"
    }
   ],
   "source": [
    "df.isnull().sum()"
   ]
  },
  {
   "cell_type": "markdown",
   "metadata": {},
   "source": [
    "Olhando individualmente nossas variáveis ​​categóricas conseguimos verificar que nossa base tem predominância de população francesa, temos uma pequena quantidade de homens maior que mulheres, olhando para a variável podemos perceber que temos uma boa distribuição tomando os valores ​​0 e 10, olhando para a variável product_number podemos ver que temos predominância nos produtos 1 e 2, também podemos verificar que a maioria das transações são feitas por cartão de crédito, quando olhamos para a nossa variável alvo podemos ver que têm muito mais valores negativos do que positivos."
   ]
  },
  {
   "cell_type": "code",
   "execution_count": 8,
   "metadata": {},
   "outputs": [
    {
     "data": {
      "text/plain": [
       "<Axes: xlabel='churn', ylabel='count'>"
      ]
     },
     "execution_count": 8,
     "metadata": {},
     "output_type": "execute_result"
    },
    {
     "data": {
      "image/png": "[encoded data removed]",
      "text/plain": [
       "<Figure size 2500x2500 with 7 Axes>"
      ]
     },
     "metadata": {},
     "output_type": "display_data"
    }
   ],
   "source": [
    "plt.figure(figsize = (25,25))\n",
    "\n",
    "plt.subplot(4,2,1)\n",
    "sns.countplot(x = 'country', palette='Set2', data = df)\n",
    "\n",
    "plt.subplot(4,2,2)\n",
    "sns.countplot(x = 'gender', palette='Set2', data = df)\n",
    "\n",
    "plt.subplot(4,2,3)\n",
    "sns.countplot(x = 'tenure', palette='Set2', data = df)\n",
    "\n",
    "plt.subplot(4,2,4)\n",
    "sns.countplot(x = 'products_number', palette='Set2', data = df)\n",
    "\n",
    "plt.subplot(4,2,5)\n",
    "sns.countplot(x = 'credit_card', palette='Set2', data = df)\n",
    "\n",
    "plt.subplot(4,2,6)\n",
    "sns.countplot(x = 'active_member', palette='Set2', data = df)\n",
    "\n",
    "plt.subplot(4,2,7)\n",
    "sns.countplot(x = 'churn', palette='Set2', data = df)"
   ]
  },
  {
   "cell_type": "markdown",
   "metadata": {},
   "source": [
    "##### Verificação dos valores e contagem dos dados em geral"
   ]
  },
  {
   "cell_type": "code",
   "execution_count": 9,
   "metadata": {},
   "outputs": [
    {
     "data": {
      "text/plain": [
       "country\n",
       "France     5014\n",
       "Germany    2509\n",
       "Spain      2477\n",
       "Name: count, dtype: int64"
      ]
     },
     "execution_count": 9,
     "metadata": {},
     "output_type": "execute_result"
    }
   ],
   "source": [
    "df['country'].value_counts()"
   ]
  },
  {
   "cell_type": "code",
   "execution_count": 10,
   "metadata": {},
   "outputs": [
    {
     "data": {
      "text/plain": [
       "gender\n",
       "Male      5457\n",
       "Female    4543\n",
       "Name: count, dtype: int64"
      ]
     },
     "execution_count": 10,
     "metadata": {},
     "output_type": "execute_result"
    }
   ],
   "source": [
    "df['gender'].value_counts()"
   ]
  },
  {
   "cell_type": "code",
   "execution_count": 11,
   "metadata": {},
   "outputs": [
    {
     "data": {
      "text/plain": [
       "tenure\n",
       "2     1048\n",
       "1     1035\n",
       "7     1028\n",
       "8     1025\n",
       "5     1012\n",
       "3     1009\n",
       "4      989\n",
       "9      984\n",
       "6      967\n",
       "10     490\n",
       "0      413\n",
       "Name: count, dtype: int64"
      ]
     },
     "execution_count": 11,
     "metadata": {},
     "output_type": "execute_result"
    }
   ],
   "source": [
    "df['tenure'].value_counts()"
   ]
  },
  {
   "cell_type": "code",
   "execution_count": 12,
   "metadata": {},
   "outputs": [
    {
     "data": {
      "text/plain": [
       "products_number\n",
       "1    5084\n",
       "2    4590\n",
       "3     266\n",
       "4      60\n",
       "Name: count, dtype: int64"
      ]
     },
     "execution_count": 12,
     "metadata": {},
     "output_type": "execute_result"
    }
   ],
   "source": [
    "df['products_number'].value_counts()"
   ]
  },
  {
   "cell_type": "code",
   "execution_count": 13,
   "metadata": {},
   "outputs": [
    {
     "data": {
      "text/plain": [
       "credit_card\n",
       "1    7055\n",
       "0    2945\n",
       "Name: count, dtype: int64"
      ]
     },
     "execution_count": 13,
     "metadata": {},
     "output_type": "execute_result"
    }
   ],
   "source": [
    "df['credit_card'].value_counts()"
   ]
  },
  {
   "cell_type": "code",
   "execution_count": 14,
   "metadata": {},
   "outputs": [
    {
     "data": {
      "text/plain": [
       "active_member\n",
       "1    5151\n",
       "0    4849\n",
       "Name: count, dtype: int64"
      ]
     },
     "execution_count": 14,
     "metadata": {},
     "output_type": "execute_result"
    }
   ],
   "source": [
    "df['active_member'].value_counts()"
   ]
  },
  {
   "cell_type": "code",
   "execution_count": 15,
   "metadata": {},
   "outputs": [
    {
     "data": {
      "text/plain": [
       "churn\n",
       "0    7963\n",
       "1    2037\n",
       "Name: count, dtype: int64"
      ]
     },
     "execution_count": 15,
     "metadata": {},
     "output_type": "execute_result"
    }
   ],
   "source": [
    "df['churn'].value_counts()"
   ]
  },
  {
   "cell_type": "markdown",
   "metadata": {},
   "source": [
    "Quando olhamos para a variável credit_score, não conseguimos ver muita diferença entre as pontuações e a chance de churn."
   ]
  },
  {
   "cell_type": "code",
   "execution_count": 16,
   "metadata": {},
   "outputs": [
    {
     "data": {
      "text/plain": [
       "<seaborn.axisgrid.FacetGrid at 0x12100db9a00>"
      ]
     },
     "execution_count": 16,
     "metadata": {},
     "output_type": "execute_result"
    },
    {
     "data": {
      "image/png": "[encoded data removed]",
      "text/plain": [
       "<Figure size 511.111x500 with 1 Axes>"
      ]
     },
     "metadata": {},
     "output_type": "display_data"
    }
   ],
   "source": [
    "sns.catplot(x = 'churn', y=\"credit_score\", kind=\"box\", data = df)"
   ]
  },
  {
   "cell_type": "markdown",
   "metadata": {},
   "source": [
    "Olhando para a variável age, podemos ver que as pessoas mais velhas são geralmente mais propensas ao churn."
   ]
  },
  {
   "cell_type": "code",
   "execution_count": 17,
   "metadata": {},
   "outputs": [
    {
     "data": {
      "text/plain": [
       "<seaborn.axisgrid.FacetGrid at 0x12100b9d160>"
      ]
     },
     "execution_count": 17,
     "metadata": {},
     "output_type": "execute_result"
    },
    {
     "data": {
      "image/png": "[encoded data removed]",
      "text/plain": [
       "<Figure size 511.111x500 with 1 Axes>"
      ]
     },
     "metadata": {},
     "output_type": "display_data"
    }
   ],
   "source": [
    "sns.catplot(x = 'churn', y=\"age\", kind=\"box\", data = df)"
   ]
  },
  {
   "cell_type": "markdown",
   "metadata": {},
   "source": [
    "Quando olhamos para a variável balance, não conseguimos ver muita diferença entre as pontuações e a chance de churn."
   ]
  },
  {
   "cell_type": "code",
   "execution_count": 18,
   "metadata": {},
   "outputs": [
    {
     "data": {
      "text/plain": [
       "<seaborn.axisgrid.FacetGrid at 0x12100c106e0>"
      ]
     },
     "execution_count": 18,
     "metadata": {},
     "output_type": "execute_result"
    },
    {
     "data": {
      "image/png": "[encoded data removed]",
      "text/plain": [
       "<Figure size 511.111x500 with 1 Axes>"
      ]
     },
     "metadata": {},
     "output_type": "display_data"
    }
   ],
   "source": [
    "sns.catplot(x = 'churn', y=\"balance\", kind=\"box\", data = df)"
   ]
  },
  {
   "cell_type": "markdown",
   "metadata": {},
   "source": [
    "Quando olhamos para a variável estimated_salary, não conseguimos ver muita diferença entre as pontuações e a chance de churn."
   ]
  },
  {
   "cell_type": "code",
   "execution_count": 19,
   "metadata": {},
   "outputs": [
    {
     "data": {
      "text/plain": [
       "<seaborn.axisgrid.FacetGrid at 0x12100d79310>"
      ]
     },
     "execution_count": 19,
     "metadata": {},
     "output_type": "execute_result"
    },
    {
     "data": {
      "image/png": "[encoded data removed]",
      "text/plain": [
       "<Figure size 511.111x500 with 1 Axes>"
      ]
     },
     "metadata": {},
     "output_type": "display_data"
    }
   ],
   "source": [
    "sns.catplot(x = 'churn', y=\"estimated_salary\", kind=\"box\", data = df)"
   ]
  },
  {
   "cell_type": "markdown",
   "metadata": {},
   "source": [
    "##### One-Hot-Encoder\n",
    "\n",
    "Quando usar One-Hot Encoding:\n",
    "\n",
    "Quando a variável não tem um significado ordinal (ex.: sexo, país).\n",
    "\n",
    "É recomendado para algoritmos baseados em distância (KNN, SVM) ou modelos lineares (Regressão Logística, Regressão Linear), já que esses algoritmos podem interpretar incorretamente as variáveis numéricas de forma ordinal."
   ]
  },
  {
   "cell_type": "code",
   "execution_count": 20,
   "metadata": {},
   "outputs": [],
   "source": [
    "df = pd.get_dummies(df, columns=['country'], prefix='country', dtype=int) # Separando os países em 3 colunas para não evitar possíveis erros"
   ]
  },
  {
   "cell_type": "code",
   "execution_count": 21,
   "metadata": {},
   "outputs": [],
   "source": [
    "df = pd.get_dummies(df, columns=['gender'], prefix='gender', dtype=int)"
   ]
  },
  {
   "cell_type": "markdown",
   "metadata": {},
   "source": [
    "### Converto a coluna BALANCE para INT"
   ]
  },
  {
   "cell_type": "code",
   "execution_count": 22,
   "metadata": {},
   "outputs": [],
   "source": [
    "df['balance']=df['balance'].astype(int)"
   ]
  },
  {
   "cell_type": "markdown",
   "metadata": {},
   "source": [
    "### Converto a coluna ESTIMATED_SALARY para INT"
   ]
  },
  {
   "cell_type": "code",
   "execution_count": 23,
   "metadata": {},
   "outputs": [],
   "source": [
    "df['estimated_salary']=df['estimated_salary'].astype(int)"
   ]
  },
  {
   "cell_type": "markdown",
   "metadata": {},
   "source": [
    "### Verifico se as alterações foram feita"
   ]
  },
  {
   "cell_type": "code",
   "execution_count": 24,
   "metadata": {},
   "outputs": [
    {
     "data": {
      "text/html": [
       "<div>\n",
       "<style scoped>\n",
       "    .dataframe tbody tr th:only-of-type {\n",
       "        vertical-align: middle;\n",
       "    }\n",
       "\n",
       "    .dataframe tbody tr th {\n",
       "        vertical-align: top;\n",
       "    }\n",
       "\n",
       "    .dataframe thead th {\n",
       "        text-align: right;\n",
       "    }\n",
       "</style>\n",
       "<table border=\"1\" class=\"dataframe\">\n",
       "  <thead>\n",
       "    <tr style=\"text-align: right;\">\n",
       "      <th></th>\n",
       "      <th>credit_score</th>\n",
       "      <th>age</th>\n",
       "      <th>tenure</th>\n",
       "      <th>balance</th>\n",
       "      <th>products_number</th>\n",
       "      <th>credit_card</th>\n",
       "      <th>active_member</th>\n",
       "      <th>estimated_salary</th>\n",
       "      <th>churn</th>\n",
       "      <th>country_France</th>\n",
       "      <th>country_Germany</th>\n",
       "      <th>country_Spain</th>\n",
       "      <th>gender_Female</th>\n",
       "      <th>gender_Male</th>\n",
       "    </tr>\n",
       "  </thead>\n",
       "  <tbody>\n",
       "    <tr>\n",
       "      <th>0</th>\n",
       "      <td>619</td>\n",
       "      <td>42</td>\n",
       "      <td>2</td>\n",
       "      <td>0</td>\n",
       "      <td>1</td>\n",
       "      <td>1</td>\n",
       "      <td>1</td>\n",
       "      <td>101348</td>\n",
       "      <td>1</td>\n",
       "      <td>1</td>\n",
       "      <td>0</td>\n",
       "      <td>0</td>\n",
       "      <td>1</td>\n",
       "      <td>0</td>\n",
       "    </tr>\n",
       "    <tr>\n",
       "      <th>1</th>\n",
       "      <td>608</td>\n",
       "      <td>41</td>\n",
       "      <td>1</td>\n",
       "      <td>83807</td>\n",
       "      <td>1</td>\n",
       "      <td>0</td>\n",
       "      <td>1</td>\n",
       "      <td>112542</td>\n",
       "      <td>0</td>\n",
       "      <td>0</td>\n",
       "      <td>0</td>\n",
       "      <td>1</td>\n",
       "      <td>1</td>\n",
       "      <td>0</td>\n",
       "    </tr>\n",
       "    <tr>\n",
       "      <th>2</th>\n",
       "      <td>502</td>\n",
       "      <td>42</td>\n",
       "      <td>8</td>\n",
       "      <td>159660</td>\n",
       "      <td>3</td>\n",
       "      <td>1</td>\n",
       "      <td>0</td>\n",
       "      <td>113931</td>\n",
       "      <td>1</td>\n",
       "      <td>1</td>\n",
       "      <td>0</td>\n",
       "      <td>0</td>\n",
       "      <td>1</td>\n",
       "      <td>0</td>\n",
       "    </tr>\n",
       "    <tr>\n",
       "      <th>3</th>\n",
       "      <td>699</td>\n",
       "      <td>39</td>\n",
       "      <td>1</td>\n",
       "      <td>0</td>\n",
       "      <td>2</td>\n",
       "      <td>0</td>\n",
       "      <td>0</td>\n",
       "      <td>93826</td>\n",
       "      <td>0</td>\n",
       "      <td>1</td>\n",
       "      <td>0</td>\n",
       "      <td>0</td>\n",
       "      <td>1</td>\n",
       "      <td>0</td>\n",
       "    </tr>\n",
       "    <tr>\n",
       "      <th>4</th>\n",
       "      <td>850</td>\n",
       "      <td>43</td>\n",
       "      <td>2</td>\n",
       "      <td>125510</td>\n",
       "      <td>1</td>\n",
       "      <td>1</td>\n",
       "      <td>1</td>\n",
       "      <td>79084</td>\n",
       "      <td>0</td>\n",
       "      <td>0</td>\n",
       "      <td>0</td>\n",
       "      <td>1</td>\n",
       "      <td>1</td>\n",
       "      <td>0</td>\n",
       "    </tr>\n",
       "  </tbody>\n",
       "</table>\n",
       "</div>"
      ],
      "text/plain": [
       "   credit_score  age  tenure  balance  products_number  credit_card  \\\n",
       "0           619   42       2        0                1            1   \n",
       "1           608   41       1    83807                1            0   \n",
       "2           502   42       8   159660                3            1   \n",
       "3           699   39       1        0                2            0   \n",
       "4           850   43       2   125510                1            1   \n",
       "\n",
       "   active_member  estimated_salary  churn  country_France  country_Germany  \\\n",
       "0              1            101348      1               1                0   \n",
       "1              1            112542      0               0                0   \n",
       "2              0            113931      1               1                0   \n",
       "3              0             93826      0               1                0   \n",
       "4              1             79084      0               0                0   \n",
       "\n",
       "   country_Spain  gender_Female  gender_Male  \n",
       "0              0              1            0  \n",
       "1              1              1            0  \n",
       "2              0              1            0  \n",
       "3              0              1            0  \n",
       "4              1              1            0  "
      ]
     },
     "execution_count": 24,
     "metadata": {},
     "output_type": "execute_result"
    }
   ],
   "source": [
    "df.head()"
   ]
  },
  {
   "cell_type": "markdown",
   "metadata": {},
   "source": [
    "### Separação de dados para TREINO e conjunto de TESTE"
   ]
  },
  {
   "cell_type": "code",
   "execution_count": 25,
   "metadata": {},
   "outputs": [],
   "source": [
    "# Retiro a target do dados de entrada\n",
    "x = df.drop(columns='churn')\n",
    "\n",
    "# Coloco nos dados de saida\n",
    "y = df['churn']"
   ]
  },
  {
   "cell_type": "code",
   "execution_count": 26,
   "metadata": {},
   "outputs": [
    {
     "name": "stdout",
     "output_type": "stream",
     "text": [
      "(10000, 13)\n"
     ]
    },
    {
     "data": {
      "text/html": [
       "<div>\n",
       "<style scoped>\n",
       "    .dataframe tbody tr th:only-of-type {\n",
       "        vertical-align: middle;\n",
       "    }\n",
       "\n",
       "    .dataframe tbody tr th {\n",
       "        vertical-align: top;\n",
       "    }\n",
       "\n",
       "    .dataframe thead th {\n",
       "        text-align: right;\n",
       "    }\n",
       "</style>\n",
       "<table border=\"1\" class=\"dataframe\">\n",
       "  <thead>\n",
       "    <tr style=\"text-align: right;\">\n",
       "      <th></th>\n",
       "      <th>credit_score</th>\n",
       "      <th>age</th>\n",
       "      <th>tenure</th>\n",
       "      <th>balance</th>\n",
       "      <th>products_number</th>\n",
       "      <th>credit_card</th>\n",
       "      <th>active_member</th>\n",
       "      <th>estimated_salary</th>\n",
       "      <th>country_France</th>\n",
       "      <th>country_Germany</th>\n",
       "      <th>country_Spain</th>\n",
       "      <th>gender_Female</th>\n",
       "      <th>gender_Male</th>\n",
       "    </tr>\n",
       "  </thead>\n",
       "  <tbody>\n",
       "    <tr>\n",
       "      <th>0</th>\n",
       "      <td>619</td>\n",
       "      <td>42</td>\n",
       "      <td>2</td>\n",
       "      <td>0</td>\n",
       "      <td>1</td>\n",
       "      <td>1</td>\n",
       "      <td>1</td>\n",
       "      <td>101348</td>\n",
       "      <td>1</td>\n",
       "      <td>0</td>\n",
       "      <td>0</td>\n",
       "      <td>1</td>\n",
       "      <td>0</td>\n",
       "    </tr>\n",
       "    <tr>\n",
       "      <th>1</th>\n",
       "      <td>608</td>\n",
       "      <td>41</td>\n",
       "      <td>1</td>\n",
       "      <td>83807</td>\n",
       "      <td>1</td>\n",
       "      <td>0</td>\n",
       "      <td>1</td>\n",
       "      <td>112542</td>\n",
       "      <td>0</td>\n",
       "      <td>0</td>\n",
       "      <td>1</td>\n",
       "      <td>1</td>\n",
       "      <td>0</td>\n",
       "    </tr>\n",
       "    <tr>\n",
       "      <th>2</th>\n",
       "      <td>502</td>\n",
       "      <td>42</td>\n",
       "      <td>8</td>\n",
       "      <td>159660</td>\n",
       "      <td>3</td>\n",
       "      <td>1</td>\n",
       "      <td>0</td>\n",
       "      <td>113931</td>\n",
       "      <td>1</td>\n",
       "      <td>0</td>\n",
       "      <td>0</td>\n",
       "      <td>1</td>\n",
       "      <td>0</td>\n",
       "    </tr>\n",
       "    <tr>\n",
       "      <th>3</th>\n",
       "      <td>699</td>\n",
       "      <td>39</td>\n",
       "      <td>1</td>\n",
       "      <td>0</td>\n",
       "      <td>2</td>\n",
       "      <td>0</td>\n",
       "      <td>0</td>\n",
       "      <td>93826</td>\n",
       "      <td>1</td>\n",
       "      <td>0</td>\n",
       "      <td>0</td>\n",
       "      <td>1</td>\n",
       "      <td>0</td>\n",
       "    </tr>\n",
       "    <tr>\n",
       "      <th>4</th>\n",
       "      <td>850</td>\n",
       "      <td>43</td>\n",
       "      <td>2</td>\n",
       "      <td>125510</td>\n",
       "      <td>1</td>\n",
       "      <td>1</td>\n",
       "      <td>1</td>\n",
       "      <td>79084</td>\n",
       "      <td>0</td>\n",
       "      <td>0</td>\n",
       "      <td>1</td>\n",
       "      <td>1</td>\n",
       "      <td>0</td>\n",
       "    </tr>\n",
       "  </tbody>\n",
       "</table>\n",
       "</div>"
      ],
      "text/plain": [
       "   credit_score  age  tenure  balance  products_number  credit_card  \\\n",
       "0           619   42       2        0                1            1   \n",
       "1           608   41       1    83807                1            0   \n",
       "2           502   42       8   159660                3            1   \n",
       "3           699   39       1        0                2            0   \n",
       "4           850   43       2   125510                1            1   \n",
       "\n",
       "   active_member  estimated_salary  country_France  country_Germany  \\\n",
       "0              1            101348               1                0   \n",
       "1              1            112542               0                0   \n",
       "2              0            113931               1                0   \n",
       "3              0             93826               1                0   \n",
       "4              1             79084               0                0   \n",
       "\n",
       "   country_Spain  gender_Female  gender_Male  \n",
       "0              0              1            0  \n",
       "1              1              1            0  \n",
       "2              0              1            0  \n",
       "3              0              1            0  \n",
       "4              1              1            0  "
      ]
     },
     "execution_count": 26,
     "metadata": {},
     "output_type": "execute_result"
    }
   ],
   "source": [
    "# Confiro se a alteração foi realizada\n",
    "print(x.shape)\n",
    "x.head()"
   ]
  },
  {
   "cell_type": "code",
   "execution_count": 27,
   "metadata": {},
   "outputs": [
    {
     "name": "stdout",
     "output_type": "stream",
     "text": [
      "(10000,)\n"
     ]
    },
    {
     "data": {
      "text/plain": [
       "0    1\n",
       "1    0\n",
       "2    1\n",
       "3    0\n",
       "4    0\n",
       "Name: churn, dtype: int64"
      ]
     },
     "execution_count": 27,
     "metadata": {},
     "output_type": "execute_result"
    }
   ],
   "source": [
    "# Confiro se a alteração foi realizada\n",
    "print(y.shape)\n",
    "y.head()"
   ]
  },
  {
   "cell_type": "code",
   "execution_count": 28,
   "metadata": {},
   "outputs": [],
   "source": [
    "x_train, x_test, y_train, y_test = train_test_split(x, y, random_state = 7, test_size = 0.20, shuffle = True, stratify = y)"
   ]
  },
  {
   "cell_type": "code",
   "execution_count": 29,
   "metadata": {},
   "outputs": [],
   "source": [
    "# Parâmetros e partições da validação cruzada\n",
    "scoring = 'accuracy'\n",
    "num_particoes = 10\n",
    "kfold = StratifiedKFold(n_splits = num_particoes, shuffle = True, random_state = 7) # validação cruzada com estratificação"
   ]
  },
  {
   "cell_type": "markdown",
   "metadata": {},
   "source": [
    "### Criação, avaliação e comparação dos modelos (Modelagem e Inferência)"
   ]
  },
  {
   "cell_type": "markdown",
   "metadata": {},
   "source": [
    "Esta sessão cria, avalia e compara vários modelos de classificação utilizando validação cruzada e pipelines de escalonamento para selecionar o melhor desempenho."
   ]
  },
  {
   "cell_type": "markdown",
   "metadata": {},
   "source": [
    "O StandardScaler() é uma maneira simples e eficaz de colocar todas as variáveis na mesma escala, garantindo que o modelo não favoreça variáveis com maior magnitude"
   ]
  },
  {
   "cell_type": "code",
   "execution_count": 30,
   "metadata": {},
   "outputs": [],
   "source": [
    "# Lista de modelos\n",
    "models = []\n",
    "\n",
    "# Criação dos modelos e adicionando-os na lista de modelos com pipeline (Escalonamento)\n",
    "models.append(('KNN', Pipeline([('scaler', StandardScaler()), ('knn', KNeighborsClassifier())])))\n",
    "models.append(('SVM', Pipeline([('scaler', StandardScaler()), ('svm', SVC())])))\n",
    "models.append(('CART', DecisionTreeClassifier())) # Sem necessidade de escalonamento\n",
    "models.append(('NB', GaussianNB())) # Sem necessidade de escalonamento"
   ]
  },
  {
   "cell_type": "markdown",
   "metadata": {},
   "source": [
    "Ensembles são técnicas em aprendizado de máquina que combinam múltiplos modelos preditivos para melhorar a performance geral \n",
    "e a robustez das previsões. A ideia principal por trás dos ensembles é que ao combinar previsões de vários modelos, é possível reduzir \n",
    "a variância, o viés e muitas vezes melhorar a precisão em relação a um único modelo\n",
    "\n",
    "Bagging (Bootstrap Aggregating):\n",
    "\n",
    "O bagging reduz a variância ao treinar múltiplos modelos de forma independente em subconjuntos aleatórios dos dados.\n",
    "Cada modelo é treinado em uma amostra diferente do conjunto de treinamento (obtida por meio de amostragem com reposição).\n",
    "As previsões dos modelos são combinadas por meio de votação (para problemas de classificação) ou média (para problemas de regressão).\n",
    "Um exemplo clássico de bagging é o Random Forest, que utiliza múltiplas árvores de decisão.\n",
    "\n",
    "Boosting:\n",
    "\n",
    "O boosting é uma técnica que combina modelos fracos em um modelo forte, onde cada novo modelo tenta corrigir os erros do modelo anterior.\n",
    "Os modelos são treinados sequencialmente, e cada modelo subsequente dá mais peso às instâncias que foram mal classificadas pelos modelos anteriores.\n",
    "Exemplos populares de boosting incluem AdaBoost, Gradient Boosting, e XGBoost.\n",
    "\n",
    "Stacking (Stacked Generalization):\n",
    "\n",
    "O stacking combina diferentes modelos de aprendizado de máquina, onde as previsões de modelos base (de diferentes tipos) são usadas como entradas para um modelo de nível superior (chamado de meta-modelo).\n",
    "O objetivo é aproveitar as forças de diferentes algoritmos, combinando suas previsões para melhorar a performance geral."
   ]
  },
  {
   "cell_type": "code",
   "execution_count": 31,
   "metadata": {},
   "outputs": [],
   "source": [
    "# Ensembles\n",
    "base = DecisionTreeClassifier()  # Usado como base no Bagging\n",
    "num_trees = 100  # Número de estimadores para os ensembles"
   ]
  },
  {
   "cell_type": "markdown",
   "metadata": {},
   "source": [
    "Random Forest\n",
    "\n",
    "Tipo de Ensemble: Bagging (Bootstrap Aggregating)\n",
    "\n",
    "Estratégia: O Random Forest utiliza a técnica de bagging (bootstrap aggregating), que treina vários modelos de árvores de decisão de forma independente. Cada árvore é treinada em um subconjunto aleatório dos dados de treino, com amostragem com reposição.\n",
    "\n",
    "Treinamento Independente: As árvores são treinadas em paralelo, ou seja, não há dependência entre as árvores.\n",
    "\n",
    "Combinação dos Modelos: Para classificação, o resultado final é obtido por votação majoritária entre as árvores. Para regressão, o resultado final é a média das previsões de todas as árvores.\n",
    "\n",
    "Foco: A principal função do Random Forest é reduzir a variância do modelo, diminuindo a chance de overfitting. Como as árvores são treinadas em subconjuntos aleatórios, o modelo é mais robusto a ruído nos dados.\n",
    "\n",
    "Vantagens: É muito eficaz para grandes conjuntos de dados e possui um bom balanceamento entre viés e variância. Além disso, é fácil de usar e não requer muita parametrização.\n",
    "__________________________"
   ]
  },
  {
   "cell_type": "markdown",
   "metadata": {},
   "source": [
    "AdaBoost\n",
    "\n",
    "Tipo de Ensemble: Boosting\n",
    "\n",
    "Estratégia: O AdaBoost (Adaptive Boosting) treina modelos de forma sequencial, onde cada novo modelo tenta corrigir os erros cometidos pelos modelos anteriores. O peso das instâncias mal classificadas aumenta para que o próximo modelo foque nesses exemplos mais difíceis.\n",
    "\n",
    "Treinamento Sequencial: Ao contrário do Random Forest, os modelos (geralmente árvores de decisão rasas, chamadas stumps) são treinados um após o outro, e cada um depende do desempenho do anterior.\n",
    "\n",
    "Combinação dos Modelos: No final, as previsões dos modelos são combinadas com uma ponderação baseada no desempenho de cada modelo (modelos que tiveram menos erro recebem mais peso).\n",
    "\n",
    "Foco: O AdaBoost busca reduzir tanto o viés quanto a variância, ao focar nos erros cometidos pelos modelos anteriores.\n",
    "\n",
    "Vantagens: É eficaz para melhorar a precisão em problemas que um único modelo simples teria dificuldades. Funciona bem para evitar underfitting.\n",
    "____________________________"
   ]
  },
  {
   "cell_type": "markdown",
   "metadata": {},
   "source": [
    "XGBClassifier\n",
    "\n",
    "Tipo de Ensemble: Gradient Boosting\n",
    "\n",
    "Estratégia: O XGBClassifier é uma implementação otimizada do Gradient Boosting, um método de boosting mais avançado e eficiente. Assim como o AdaBoost, o Gradient Boosting constrói os modelos de forma sequencial, mas de uma maneira diferente: ele ajusta cada novo modelo para minimizar o erro residual (diferença entre a previsão e o valor real) dos modelos anteriores, através da otimização de uma função de perda.\n",
    "\n",
    "Treinamento Sequencial: Cada árvore é treinada para prever os resíduos dos modelos anteriores, ou seja, as partes que o modelo atual não conseguiu aprender. Assim, o novo modelo corrige os erros de forma progressiva.\n",
    "\n",
    "Combinação dos Modelos: As previsões finais são combinadas por soma ponderada, assim como no AdaBoost, mas o processo de ajuste de erros é feito com base na função de gradiente.\n",
    "\n",
    "Foco: O XGBoost (e outras variantes do Gradient Boosting) busca melhorar a performance, reduzindo tanto o viés quanto a variância do modelo. É conhecido por ser um dos métodos mais poderosos para conjuntos de dados tabulares.\n",
    "\n",
    "Vantagens: Muito eficaz para problemas complexos, com grande controle sobre o overfitting através de hiperparâmetros como learning_rate, max_depth, n_estimators e regularization. É também conhecido por ser muito rápido e eficiente, utilizando técnicas como paralelização."
   ]
  },
  {
   "cell_type": "code",
   "execution_count": 32,
   "metadata": {},
   "outputs": [],
   "source": [
    "# Adicionando ensembles a lista\n",
    "models.append(('RF', RandomForestClassifier(n_estimators=num_trees)))\n",
    "models.append(('AdaBoost', AdaBoostClassifier(n_estimators=num_trees)))\n",
    "models.append(('XGB', XGBClassifier(n_estimators=num_trees)))\n",
    "\n",
    "# Listas para armazenar os resultados\n",
    "results = []\n",
    "names = []"
   ]
  },
  {
   "cell_type": "code",
   "execution_count": 33,
   "metadata": {},
   "outputs": [
    {
     "name": "stdout",
     "output_type": "stream",
     "text": [
      "KNN: 0.8239 (0.0077)\n",
      "SVM: 0.8516 (0.0086)\n",
      "CART: 0.7910 (0.0127)\n",
      "NB: 0.7861 (0.0052)\n",
      "RF: 0.8572 (0.0109)\n",
      "AdaBoost: 0.8520 (0.0113)\n",
      "XGB: 0.8486 (0.0114)\n"
     ]
    }
   ],
   "source": [
    "# Avaliação dos modelos usando validação cruzada\n",
    "for name, model in models:\n",
    "    cv_results = cross_val_score(model, x_train, y_train, cv=kfold, scoring=scoring)\n",
    "    results.append(cv_results)\n",
    "    names.append(name)\n",
    "    msg = \"%s: %.4f (%.4f)\" % (name, cv_results.mean(), cv_results.std())\n",
    "    print(msg)"
   ]
  },
  {
   "cell_type": "markdown",
   "metadata": {},
   "source": [
    "##### Tirar dúvida"
   ]
  },
  {
   "cell_type": "markdown",
   "metadata": {},
   "source": [
    "Valores antes da aplicação do One-Hot-Encoder nas colunas \"Country\" e \"Gender\"\n",
    "\n",
    "KNN: 0.829625 (0.008963)\n",
    "SVM: 0.853625 (0.007362)\n",
    "CART: 0.789250 (0.013430)\n",
    "NB: 0.783375 (0.008405)\n",
    "RF: 0.860250 (0.007802)\n",
    "AdaBoost: 0.856000 (0.008000)\n",
    "XGB: 0.851500 (0.008548)"
   ]
  },
  {
   "cell_type": "code",
   "execution_count": 34,
   "metadata": {},
   "outputs": [
    {
     "data": {
      "image/png": "[encoded data removed]",
      "text/plain": [
       "<Figure size 1500x1000 with 1 Axes>"
      ]
     },
     "metadata": {},
     "output_type": "display_data"
    }
   ],
   "source": [
    "# Boxplot de comparação dos modelos\n",
    "fig = plt.figure(figsize=(15,10)) \n",
    "fig.suptitle('Comparação dos Modelos') \n",
    "ax = fig.add_subplot(111)\n",
    "plt.grid(True, linestyle='--', linewidth=0.7, color='gray')\n",
    "plt.boxplot(results)\n",
    "ax.set_xticklabels(names) \n",
    "plt.show()"
   ]
  },
  {
   "cell_type": "markdown",
   "metadata": {},
   "source": [
    "##### Criação e avaliação de modelos: dados padronizados e normalizados\n",
    "Esta sessão cria, treina e avalia múltiplos modelos de classificação usando pipelines para comparar o desempenho em diferentes versões do dataset: original, padronizado e normalizado, através de validação cruzada"
   ]
  },
  {
   "cell_type": "code",
   "execution_count": 35,
   "metadata": {},
   "outputs": [],
   "source": [
    "# Listas para armazenar os pipelines e os resultados para todas as visões do dataset\n",
    "pipelines = []\n",
    "results = []\n",
    "names = []\n",
    "\n",
    "# Criação dos elementos do pipeline\n",
    "\n",
    "# Algoritmos que serão utilizados\n",
    "knn = ('KNN', KNeighborsClassifier())\n",
    "cart = ('CART', AdaBoostClassifier())\n",
    "svm = ('SVM', SVC())\n",
    "nb = ('NB', GaussianNB())\n",
    "\n",
    "# Ensembles que serão utilizados\n",
    "\n",
    "num_trees = 100 # Novamente menciono o numero de estimadores para os ensembles\n",
    "\n",
    "rf = ('RF', RandomForestClassifier(n_estimators=num_trees))\n",
    "ada = ('AdaBoost', AdaBoostClassifier(n_estimators=num_trees))\n",
    "xgb = ('XGB', XGBClassifier(n_estimators=num_trees, learning_rate=0.1))"
   ]
  },
  {
   "cell_type": "markdown",
   "metadata": {},
   "source": [
    "O StandardScaler padroniza os dados para terem média 0 e desvio padrão 1.\n",
    "\n",
    "O MinMaxScaler transforma os dados para um intervalo específico (normalmente [0, 1])."
   ]
  },
  {
   "cell_type": "code",
   "execution_count": 36,
   "metadata": {},
   "outputs": [],
   "source": [
    "# Transformações que serão utilizadas\n",
    "standard_scaler = ('StandardScaler', StandardScaler())\n",
    "min_max_scaler = ('MinMaxScaler', MinMaxScaler())"
   ]
  },
  {
   "cell_type": "code",
   "execution_count": 37,
   "metadata": {},
   "outputs": [],
   "source": [
    "# Montando os pipelines\n",
    "\n",
    "# Dataset original\n",
    "pipelines.append(('KNN-orig', Pipeline([knn])))\n",
    "pipelines.append(('CART-orig', Pipeline([cart])))\n",
    "pipelines.append(('NB-orig', Pipeline([nb])))\n",
    "pipelines.append(('SVM-orig', Pipeline([svm])))\n",
    "\n",
    "# Ensembles no dataset original\n",
    "pipelines.append(('RF-orig', Pipeline([rf])))\n",
    "pipelines.append(('AdaBoost-orig', Pipeline([ada])))\n",
    "pipelines.append(('XGB-orig', Pipeline([xgb])))\n",
    "\n",
    "# Dataset Padronizado\n",
    "pipelines.append(('KNN-padr', Pipeline([standard_scaler, knn])))\n",
    "pipelines.append(('CART-padr', Pipeline([standard_scaler, cart])))\n",
    "pipelines.append(('NB-padr', Pipeline([standard_scaler, nb])))\n",
    "pipelines.append(('SVM-padr', Pipeline([standard_scaler, svm])))\n",
    "\n",
    "# Ensembles no dataset padronizado\n",
    "pipelines.append(('RF-padr', Pipeline([standard_scaler, rf])))\n",
    "pipelines.append(('AdaBoost-padr', Pipeline([standard_scaler, ada])))\n",
    "pipelines.append(('XGB-padr', Pipeline([standard_scaler, xgb])))\n",
    "\n",
    "# Dataset Normalizado\n",
    "pipelines.append(('KNN-norm', Pipeline([min_max_scaler, knn])))\n",
    "pipelines.append(('CART-norm', Pipeline([min_max_scaler, cart])))\n",
    "pipelines.append(('NB-norm', Pipeline([min_max_scaler, nb])))\n",
    "pipelines.append(('SVM-norm', Pipeline([min_max_scaler, svm])))\n",
    "\n",
    "# Ensembles no dataset normalizado\n",
    "pipelines.append(('RF-norm', Pipeline([min_max_scaler, rf])))\n",
    "pipelines.append(('AdaBoost-norm', Pipeline([min_max_scaler, ada])))\n",
    "pipelines.append(('XGB-norm', Pipeline([min_max_scaler, xgb])))"
   ]
  },
  {
   "cell_type": "code",
   "execution_count": 38,
   "metadata": {},
   "outputs": [
    {
     "name": "stdout",
     "output_type": "stream",
     "text": [
      "KNN-orig: 0.7562 (0.0075)\n",
      "CART-orig: 0.8524 (0.0106)\n",
      "NB-orig: 0.7861 (0.0052)\n",
      "SVM-orig: 0.7962 (0.0000)\n",
      "RF-orig: 0.8561 (0.0127)\n",
      "AdaBoost-orig: 0.8520 (0.0113)\n",
      "XGB-orig: 0.8605 (0.0117)\n",
      "KNN-padr: 0.8239 (0.0077)\n",
      "CART-padr: 0.8524 (0.0106)\n",
      "NB-padr: 0.8127 (0.0087)\n",
      "SVM-padr: 0.8516 (0.0086)\n",
      "RF-padr: 0.8569 (0.0126)\n",
      "AdaBoost-padr: 0.8521 (0.0111)\n",
      "XGB-padr: 0.8605 (0.0117)\n",
      "KNN-norm: 0.8137 (0.0100)\n",
      "CART-norm: 0.8524 (0.0106)\n",
      "NB-norm: 0.8127 (0.0087)\n",
      "SVM-norm: 0.8335 (0.0076)\n",
      "RF-norm: 0.8566 (0.0104)\n",
      "AdaBoost-norm: 0.8520 (0.0113)\n",
      "XGB-norm: 0.8605 (0.0117)\n"
     ]
    }
   ],
   "source": [
    "# Execução dos pipelines\n",
    "for name, model in pipelines:\n",
    "    cv_results = cross_val_score(model, x_train, y_train, cv=kfold, scoring=scoring)\n",
    "    results.append(cv_results)\n",
    "    names.append(name)\n",
    "    msg = \"%s: %.4f (%.4f)\" % (name, cv_results.mean(), cv_results.std())\n",
    "    print(msg)"
   ]
  },
  {
   "cell_type": "code",
   "execution_count": 39,
   "metadata": {},
   "outputs": [
    {
     "data": {
      "image/png": "[encoded data removed]",
      "text/plain": [
       "<Figure size 2500x600 with 1 Axes>"
      ]
     },
     "metadata": {},
     "output_type": "display_data"
    }
   ],
   "source": [
    "# Boxplot de comparação dos modelos\n",
    "fig = plt.figure(figsize=(25, 6))\n",
    "fig.suptitle('Comparação dos Modelos - Dataset original, padronizado e normalizado')\n",
    "ax = fig.add_subplot(111)\n",
    "plt.grid(True, linestyle='--', linewidth=0.7, color='gray')\n",
    "plt.boxplot(results)\n",
    "ax.set_xticklabels(names, rotation=90)\n",
    "plt.show()"
   ]
  },
  {
   "cell_type": "markdown",
   "metadata": {},
   "source": [
    "Modelo de escolha -> XGBClassifier original\n",
    "\n",
    "##### Otimização dos hiperparâmetros\n",
    "Esta sessão utiliza GridSearch para realizar uma busca por hiperparâmetros ideais de um modelo Random Forest, treinando e avaliando várias combinações para identificar a melhor configuração de acordo com a acurácia.\n",
    "\n",
    "\n",
    "Como Funciona o Grid Search?\n",
    "\n",
    "Definição do Espaço de Hiperparâmetros: Primeiro, define-se um conjunto de valores possíveis para cada hiperparâmetro.\n",
    "\n",
    "Avaliação das Combinações: Em seguida, cada combinação possível desses valores é avaliada.\n",
    "\n",
    "Seleção do Melhor Conjunto: A combinação de hiperparâmetros que produz o melhor desempenho é selecionada."
   ]
  },
  {
   "cell_type": "code",
   "execution_count": 40,
   "metadata": {},
   "outputs": [
    {
     "name": "stdout",
     "output_type": "stream",
     "text": [
      "Fitting 5 folds for each of 64 candidates, totalling 320 fits\n",
      "Melhor parâmetro para XGBClassifier: {'learning_rate': 0.1, 'max_depth': 3, 'n_estimators': 200}\n"
     ]
    }
   ],
   "source": [
    "# TUNING DO XGBClassifier\n",
    "\n",
    "# Definição da grade de hiperparametros para XGB\n",
    "\n",
    "param_grid_xgb = {\n",
    "    'n_estimators': [10, 50, 100, 200], # Número de árvores\n",
    "    'learning_rate': [0.01, 0.1, 0.2, 0.3], # Profundidade máxima\n",
    "    'max_depth': [3, 5, 7, 9] # Taxa de aprendizado\n",
    "}\n",
    "\n",
    "# Definindo o modelo\n",
    "xgb = XGBClassifier()\n",
    "\n",
    "grid_search_xgb = GridSearchCV(\n",
    "                    estimator=xgb, # O modelo a ser otimizado\n",
    "                    param_grid=param_grid_xgb, # Hiperparâmetros e seus valores\n",
    "                    cv=5, # Número de dobras para validação cruzada\n",
    "                    scoring='accuracy', # A métrica para avaliar o desempenho\n",
    "                    verbose=1, # Mensagens durante a execução\n",
    "                    n_jobs=-1)# Usar todos os núcleos disponíveis\n",
    "\n",
    "# Treinamento do modelo com a otimização dos hiperparametros\n",
    "grid_search_xgb.fit(x_train, y_train)\n",
    "\n",
    "# Melhores parametros\n",
    "print(\"Melhor parâmetro para XGBClassifier:\", grid_search_xgb.best_params_) # O atributo best_params_ retorna o melhor parametro\n"
   ]
  },
  {
   "cell_type": "markdown",
   "metadata": {},
   "source": [
    "Verificando a acurácia, após a utilização do Grid Search, com os melhores parametros"
   ]
  },
  {
   "cell_type": "code",
   "execution_count": 41,
   "metadata": {},
   "outputs": [
    {
     "name": "stdout",
     "output_type": "stream",
     "text": [
      "Acurácia do modelo otimizado: 0.8715\n"
     ]
    }
   ],
   "source": [
    "best_model = grid_search_xgb.best_estimator_\n",
    "y_pred = best_model.predict(x_test)\n",
    "print(\"Acurácia do modelo otimizado:\", accuracy_score(y_test, y_pred))"
   ]
  },
  {
   "cell_type": "markdown",
   "metadata": {},
   "source": [
    "Finalização do Modelo\n",
    "\n",
    "Foi utilizado o modelo -> XGBClassifier\n",
    "\n",
    "Melhor parâmetro para XGBClassifier: {'learning_rate': 0.1, 'max_depth': 3, 'n_estimators': 200}\n",
    "\n",
    "Nesta seção agora aplicaremos a padronização nos dados, treinaremos o modelos com os dados normalizados e avaliaremos a performance no conjunto de teste, verificando a acuracia e a importancia das features para o modelo."
   ]
  },
  {
   "cell_type": "code",
   "execution_count": 42,
   "metadata": {},
   "outputs": [
    {
     "name": "stdout",
     "output_type": "stream",
     "text": [
      "Acurácia no conjunto de teste: 0.8715\n"
     ]
    }
   ],
   "source": [
    "scaler = StandardScaler().fit(x_train)  # Ajuste do scale com o conjunto de treino\n",
    "rescaledX_train = scaler.transform(x_train)  # Aplicando a padronização no conjunto de treino\n",
    "\n",
    "# Definindo o XGBClassifier com os melhores parametros\n",
    "\n",
    "model = XGBClassifier(\n",
    "    n_estimators=200,  # Número de árvores\n",
    "    max_depth=3,  # Profundidade máxima\n",
    "    learning_rate=0.1, # Taxa de aprendizado\n",
    "    random_state=7  # SEED\n",
    ")\n",
    "\n",
    "# Treinando o modelo com os dados normalizados\n",
    "model.fit(rescaledX_train, y_train)  # O modelo é treinado com o conjunto de treino normalizado\n",
    "\n",
    "# Estimativa da acurácia no conjunto de teste\n",
    "rescaledX_test = scaler.transform(x_test)  # O conjunto de teste é padronizado da mesma forma que o treino\n",
    "prediction = model.predict(rescaledX_test)  # O modelo faz previsões no conjunto de teste\n",
    "\n",
    "# Exibindo a acurácia do modelo no conjunto de teste\n",
    "print(\"Acurácia no conjunto de teste:\", accuracy_score(y_test, prediction))  # Exibe a acurácia no conjunto de teste\n",
    "\n",
    "# Exibe a importância das features\n",
    "importances = model.feature_importances_  # Importancias das features de acordo com o XGB\n",
    "indices = np.argsort(importances)[::-1]  # Ordena as features pela importancia"
   ]
  },
  {
   "cell_type": "code",
   "execution_count": 43,
   "metadata": {},
   "outputs": [
    {
     "name": "stdout",
     "output_type": "stream",
     "text": [
      "Acurácia no conjunto de teste: 0.8715\n",
      "Relatório de Classificação:\n",
      "                         precision    recall  f1-score   support\n",
      "\n",
      "neutral or dissatisfied       0.89      0.96      0.92      1593\n",
      "              satisfied       0.78      0.52      0.62       407\n",
      "\n",
      "               accuracy                           0.87      2000\n",
      "              macro avg       0.83      0.74      0.77      2000\n",
      "           weighted avg       0.86      0.87      0.86      2000\n",
      "\n"
     ]
    }
   ],
   "source": [
    "from sklearn.metrics import classification_report\n",
    "\n",
    "# Define um pipeline com escalonamento e Random Forest\n",
    "pipeline = Pipeline([\n",
    "    ('scaler', StandardScaler()),  # Etapa de escalonamento\n",
    "    ('xgb', XGBClassifier(\n",
    "    n_estimators=200,  # Número de árvores\n",
    "    max_depth=3,  # Profundidade máxima\n",
    "    learning_rate=0.1, # Taxa de aprendizado\n",
    "    random_state=7  # SEED\n",
    "    ))  # Modelo XGB com os melhores hiperparâmetros\n",
    "])\n",
    "\n",
    "# Treinamento do pipeline no conjunto de treino\n",
    "pipeline.fit(x_train, y_train)\n",
    "\n",
    "# Predição no conjunto de teste usando o pipeline\n",
    "prediction = pipeline.predict(x_test)\n",
    "\n",
    "# Estimativa da acurácia no conjunto de teste\n",
    "print(\"Acurácia no conjunto de teste:\", accuracy_score(y_test, prediction))\n",
    "\n",
    "# Gera o relatório de classificação\n",
    "report = classification_report(y_test, prediction, target_names=['neutral or dissatisfied', 'satisfied'])\n",
    "\n",
    "# Exibir o relatório de classificação\n",
    "print(\"Relatório de Classificação:\")\n",
    "print(report)"
   ]
  },
  {
   "cell_type": "code",
   "execution_count": 45,
   "metadata": {},
   "outputs": [
    {
     "name": "stdout",
     "output_type": "stream",
     "text": [
      "Modelo salvo com sucesso!\n"
     ]
    }
   ],
   "source": [
    "# Salvando o modelo\n",
    "\n",
    "import pickle\n",
    "\n",
    "model_bankChurn = 'xgb_churn_classifier.pkl'\n",
    "with open(\"../models/\" + model_bankChurn, 'wb') as file:\n",
    "    pickle.dump(pipeline.named_steps['xgb'], file) # Salvando apenas o modelo escolhido XGBClassifier\n",
    "\n",
    "scaler_bankChurn = 'std_bankChurn.pkl'\n",
    "with open(\"../scalers/\" + scaler_bankChurn, \"wb\") as file:\n",
    "    pickle.dump(pipeline.named_steps['scaler'], file) # Salvando apenas o scaler\n",
    "\n",
    "pipeline_bankChurn = \"xgb_bankChurn.pkl\"\n",
    "with open(\"../pipelines/\" + pipeline_bankChurn, \"wb\") as file:\n",
    "    pickle.dump(pipeline, file) # Salvando o pipeline completo (com scaler e modelo)\n",
    "\n",
    "# Salvando X_test e y_test\n",
    "x_test_df = pd.DataFrame(x_test, columns=df.drop(columns=['churn']).columns)  # salvando todas as colunas menos a coluna target \"churn\"\n",
    "y_test_df = pd.DataFrame(y_test, columns=['churn'])  # nome da coluna alvo\n",
    "x_test_df.to_csv(\"../data/data_train_test/x_test_dataset_bankChurn.csv\", index=False)\n",
    "y_test_df.to_csv(\"../data/data_train_test/y_test_dataset_bankChurn.csv\", index=False)\n",
    "\n",
    "print(\"Modelo salvo com sucesso!\")"
   ]
  },
  {
   "cell_type": "code",
   "execution_count": null,
   "metadata": {},
   "outputs": [],
   "source": []
  }
 ],
 "metadata": {
  "kernelspec": {
   "display_name": "env",
   "language": "python",
   "name": "python3"
  },
  "language_info": {
   "codemirror_mode": {
    "name": "ipython",
    "version": 3
   },
   "file_extension": ".py",
   "mimetype": "text/x-python",
   "name": "python",
   "nbconvert_exporter": "python",
   "pygments_lexer": "ipython3",
   "version": "3.12.1"
  }
 },
 "nbformat": 4,
 "nbformat_minor": 2
}
